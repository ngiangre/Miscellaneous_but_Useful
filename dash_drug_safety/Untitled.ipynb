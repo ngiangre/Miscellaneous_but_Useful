{
 "cells": [
  {
   "cell_type": "markdown",
   "metadata": {},
   "source": [
    "# Dash: a powerful web platform for visualizing and interacting with data"
   ]
  },
  {
   "cell_type": "code",
   "execution_count": 1,
   "metadata": {},
   "outputs": [],
   "source": [
    "import dash_core_components as dcc\n",
    "import dash_html_components as html\n",
    "import dash_table_experiments as dt\n",
    "import dash"
   ]
  },
  {
   "cell_type": "code",
   "execution_count": 2,
   "metadata": {},
   "outputs": [],
   "source": [
    "from pyarrow import feather\n",
    "data = feather.read_feather(source='/Users/npg2108/Research/Projects/pediatrics/data/20180214_aeolous_stats.tsv.feather',nthreads=16,columns=['drug_concept_name','aed','age_cat'])"
   ]
  },
  {
   "cell_type": "code",
   "execution_count": 3,
   "metadata": {},
   "outputs": [],
   "source": [
    "show = data.head(50).copy()"
   ]
  },
  {
   "cell_type": "code",
   "execution_count": 5,
   "metadata": {},
   "outputs": [
    {
     "data": {
      "text/plain": [
       "DataTable(rows={0: {'drug_concept_name': 'gadoteridol', 'aed': 'non-AED', 'age_cat': '[50,55)'}, 1: {'drug_concept_name': 'gadoteridol', 'aed': 'non-AED', 'age_cat': '[45,50)'}, 2: {'drug_concept_name': 'gadoteridol', 'aed': 'non-AED', 'age_cat': '[25,30)'}, 3: {'drug_concept_name': 'gadoteridol', 'aed': 'non-AED', 'age_cat': '[80,85)'}, 4: {'drug_concept_name': 'gadoteridol', 'aed': 'non-AED', 'age_cat': '[65,70)'}, 5: {'drug_concept_name': 'gadoteridol', 'aed': 'non-AED', 'age_cat': '[20,25)'}, 6: {'drug_concept_name': 'gadoteridol', 'aed': 'non-AED', 'age_cat': '[65,70)'}, 7: {'drug_concept_name': 'gadoteridol', 'aed': 'non-AED', 'age_cat': '[65,70)'}, 8: {'drug_concept_name': 'gadoteridol', 'aed': 'non-AED', 'age_cat': '[35,40)'}, 9: {'drug_concept_name': 'gadoteridol', 'aed': 'non-AED', 'age_cat': '[70,75)'}, 10: {'drug_concept_name': 'gadoteridol', 'aed': 'non-AED', 'age_cat': '[20,25)'}, 11: {'drug_concept_name': 'gadoteridol', 'aed': 'non-AED', 'age_cat': '[50,55)'}, 12: {'drug_concept_name': 'gadoteridol', 'aed': 'non-AED', 'age_cat': '[70,75)'}, 13: {'drug_concept_name': 'gadoteridol', 'aed': 'non-AED', 'age_cat': '[65,70)'}, 14: {'drug_concept_name': 'gadoteridol', 'aed': 'non-AED', 'age_cat': '[55,60)'}, 15: {'drug_concept_name': 'gadoteridol', 'aed': 'non-AED', 'age_cat': '[25,30)'}, 16: {'drug_concept_name': 'gadoteridol', 'aed': 'non-AED', 'age_cat': '[60,65)'}, 17: {'drug_concept_name': 'gadoteridol', 'aed': 'non-AED', 'age_cat': '[35,40)'}, 18: {'drug_concept_name': 'gadoteridol', 'aed': 'non-AED', 'age_cat': '[55,60)'}, 19: {'drug_concept_name': 'gadoteridol', 'aed': 'non-AED', 'age_cat': '[40,45)'}, 20: {'drug_concept_name': 'gadoteridol', 'aed': 'non-AED', 'age_cat': '[75,80)'}, 21: {'drug_concept_name': 'gadoteridol', 'aed': 'non-AED', 'age_cat': '[65,70)'}, 22: {'drug_concept_name': 'gadoteridol', 'aed': 'non-AED', 'age_cat': '[35,40)'}, 23: {'drug_concept_name': 'gadoteridol', 'aed': 'non-AED', 'age_cat': '[20,25)'}, 24: {'drug_concept_name': 'gadoteridol', 'aed': 'non-AED', 'age_cat': '[15,20)'}, 25: {'drug_concept_name': 'gadoteridol', 'aed': 'non-AED', 'age_cat': '[65,70)'}, 26: {'drug_concept_name': 'gadoteridol', 'aed': 'non-AED', 'age_cat': '[45,50)'}, 27: {'drug_concept_name': 'gadoteridol', 'aed': 'non-AED', 'age_cat': '[65,70)'}, 28: {'drug_concept_name': 'gadoteridol', 'aed': 'non-AED', 'age_cat': '[30,35)'}, 29: {'drug_concept_name': 'gadoteridol', 'aed': 'non-AED', 'age_cat': '[55,60)'}, 30: {'drug_concept_name': 'gadoteridol', 'aed': 'non-AED', 'age_cat': '[20,25)'}, 31: {'drug_concept_name': 'gadoteridol', 'aed': 'non-AED', 'age_cat': '[15,20)'}, 32: {'drug_concept_name': 'gadoteridol', 'aed': 'non-AED', 'age_cat': '[0,5)'}, 33: {'drug_concept_name': 'gadoteridol', 'aed': 'non-AED', 'age_cat': '[55,60)'}, 34: {'drug_concept_name': 'gadoteridol', 'aed': 'non-AED', 'age_cat': '[55,60)'}, 35: {'drug_concept_name': 'gadoteridol', 'aed': 'non-AED', 'age_cat': '[65,70)'}, 36: {'drug_concept_name': 'gadoteridol', 'aed': 'non-AED', 'age_cat': '[55,60)'}, 37: {'drug_concept_name': 'gadoteridol', 'aed': 'non-AED', 'age_cat': '[25,30)'}, 38: {'drug_concept_name': 'gadoteridol', 'aed': 'non-AED', 'age_cat': '[25,30)'}, 39: {'drug_concept_name': 'gadoteridol', 'aed': 'non-AED', 'age_cat': '[55,60)'}, 40: {'drug_concept_name': 'gadoteridol', 'aed': 'non-AED', 'age_cat': '[60,65)'}, 41: {'drug_concept_name': 'gadoteridol', 'aed': 'non-AED', 'age_cat': '[35,40)'}, 42: {'drug_concept_name': 'gadoteridol', 'aed': 'non-AED', 'age_cat': '[45,50)'}, 43: {'drug_concept_name': 'gadoteridol', 'aed': 'non-AED', 'age_cat': '[40,45)'}, 44: {'drug_concept_name': 'gadoteridol', 'aed': 'non-AED', 'age_cat': '[50,55)'}, 45: {'drug_concept_name': 'gadoteridol', 'aed': 'non-AED', 'age_cat': '[45,50)'}, 46: {'drug_concept_name': 'gadoteridol', 'aed': 'non-AED', 'age_cat': '[50,55)'}, 47: {'drug_concept_name': 'gadoteridol', 'aed': 'non-AED', 'age_cat': '[50,55)'}, 48: {'drug_concept_name': 'gadoteridol', 'aed': 'non-AED', 'age_cat': '[60,65)'}, 49: {'drug_concept_name': 'gadoteridol', 'aed': 'non-AED', 'age_cat': '[50,55)'}})"
      ]
     },
     "execution_count": 5,
     "metadata": {},
     "output_type": "execute_result"
    }
   ],
   "source": [
    "dt.DataTable(rows=show.to_dict('id'))"
   ]
  },
  {
   "cell_type": "code",
   "execution_count": 56,
   "metadata": {},
   "outputs": [],
   "source": [
    "?dash.dependencies.Input"
   ]
  },
  {
   "cell_type": "code",
   "execution_count": 2,
   "metadata": {},
   "outputs": [],
   "source": [
    "dcc."
   ]
  },
  {
   "cell_type": "code",
   "execution_count": 3,
   "metadata": {},
   "outputs": [],
   "source": [
    "#html.Div?"
   ]
  },
  {
   "cell_type": "code",
   "execution_count": 27,
   "metadata": {},
   "outputs": [],
   "source": [
    "from pyarrow import feather\n",
    "import pandas as pd"
   ]
  },
  {
   "cell_type": "code",
   "execution_count": 37,
   "metadata": {},
   "outputs": [],
   "source": [
    "ages = feather.read_feather(source='/Users/npg2108/Research/Projects/pediatrics/data/20180214_aeolous_stats.tsv.feather',nthreads=16,columns=['master_age'])"
   ]
  },
  {
   "cell_type": "code",
   "execution_count": 38,
   "metadata": {},
   "outputs": [],
   "source": [
    "import matplotlib.pyplot as plt"
   ]
  },
  {
   "cell_type": "code",
   "execution_count": 39,
   "metadata": {},
   "outputs": [
    {
     "data": {
      "image/png": "[encoded data removed]",
      "text/plain": [
       "<Figure size 432x288 with 1 Axes>"
      ]
     },
     "metadata": {},
     "output_type": "display_data"
    }
   ],
   "source": [
    "ages.master_age.hist(bins=1000)\n",
    "plt.show()"
   ]
  },
  {
   "cell_type": "code",
   "execution_count": 40,
   "metadata": {},
   "outputs": [
    {
     "data": {
      "image/png": "[encoded data removed]",
      "text/plain": [
       "<Figure size 432x288 with 1 Axes>"
      ]
     },
     "metadata": {},
     "output_type": "display_data"
    }
   ],
   "source": [
    "ages.master_age.hist(bins=100)\n",
    "plt.show()"
   ]
  },
  {
   "cell_type": "code",
   "execution_count": 41,
   "metadata": {},
   "outputs": [
    {
     "data": {
      "image/png": "[encoded data removed]",
      "text/plain": [
       "<Figure size 432x288 with 1 Axes>"
      ]
     },
     "metadata": {},
     "output_type": "display_data"
    }
   ],
   "source": [
    "ages.master_age.hist(bins=20)\n",
    "plt.show()"
   ]
  },
  {
   "cell_type": "code",
   "execution_count": 42,
   "metadata": {},
   "outputs": [],
   "source": [
    "drugs = feather.read_feather(source='/Users/npg2108/Research/Projects/pediatrics/data/20180214_aeolous_stats.tsv.feather',nthreads=16,columns=['drug_concept_name'])"
   ]
  },
  {
   "cell_type": "markdown",
   "metadata": {},
   "source": [
    "Outline for choosing a drug and plotting at what age patients are taking it"
   ]
  },
  {
   "cell_type": "code",
   "execution_count": 43,
   "metadata": {},
   "outputs": [],
   "source": [
    "import ipywidgets"
   ]
  },
  {
   "cell_type": "code",
   "execution_count": 50,
   "metadata": {},
   "outputs": [],
   "source": [
    "uniq_drugs = drugs.drug_concept_name.unique()"
   ]
  },
  {
   "cell_type": "code",
   "execution_count": 51,
   "metadata": {},
   "outputs": [
    {
     "data": {
      "application/vnd.jupyter.widget-view+json": {
       "model_id": "2a7584c851114d7ab617fae894a5f6ee",
       "version_major": 2,
       "version_minor": 0
      },
      "text/plain": [
       "Dropdown(options=('gadoteridol', 'Gadopentetate.Dimeglumine', 'Cinnarizine', 'Tenecteplase', 'Levobupivacaine'…"
      ]
     },
     "metadata": {},
     "output_type": "display_data"
    }
   ],
   "source": [
    "d = ipywidgets.Dropdown(options=uniq_drugs,value=uniq_drugs[0])\n",
    "d"
   ]
  },
  {
   "cell_type": "code",
   "execution_count": 54,
   "metadata": {},
   "outputs": [
    {
     "data": {
      "text/plain": [
       "3051"
      ]
     },
     "execution_count": 54,
     "metadata": {},
     "output_type": "execute_result"
    }
   ],
   "source": [
    "data.query('drug_concept_name==@d.label').count().values[0]"
   ]
  },
  {
   "cell_type": "code",
   "execution_count": 57,
   "metadata": {},
   "outputs": [],
   "source": [
    "drugs_age_cat = feather.read_feather(source='/Users/npg2108/Research/Projects/pediatrics/data/20180214_aeolous_stats.tsv.feather',nthreads=16,columns=['drug_concept_name','age_cat'])"
   ]
  },
  {
   "cell_type": "code",
   "execution_count": 66,
   "metadata": {},
   "outputs": [],
   "source": [
    "series = drugs_age_cat.query('drug_concept_name == @d.label').groupby(['age_cat']).apply(lambda x : x.shape[0])"
   ]
  },
  {
   "cell_type": "code",
   "execution_count": 67,
   "metadata": {},
   "outputs": [],
   "source": [
    "x = series.index.tolist()\n",
    "y = series.values / series.sum()"
   ]
  },
  {
   "cell_type": "code",
   "execution_count": null,
   "metadata": {},
   "outputs": [],
   "source": []
  }
 ],
 "metadata": {
  "kernelspec": {
   "display_name": "Python [conda root]",
   "language": "python",
   "name": "conda-root-py"
  },
  "language_info": {
   "codemirror_mode": {
    "name": "ipython",
    "version": 3
   },
   "file_extension": ".py",
   "mimetype": "text/x-python",
   "name": "python",
   "nbconvert_exporter": "python",
   "pygments_lexer": "ipython3",
   "version": "3.6.5"
  }
 },
 "nbformat": 4,
 "nbformat_minor": 2
}
